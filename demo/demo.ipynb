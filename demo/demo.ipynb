{
 "cells": [
  {
   "cell_type": "code",
   "execution_count": 1,
   "metadata": {},
   "outputs": [],
   "source": [
    "from unified_planning.io.pddl_reader import PDDLReader\n",
    "from unified_planning.model import Problem\n",
    "from unified_planning.shortcuts import *\n",
    "from bitblast.utils import *\n",
    "from pathlib import Path\n",
    "import os\n",
    "import numpy as np"
   ]
  },
  {
   "cell_type": "code",
   "execution_count": 2,
   "metadata": {},
   "outputs": [],
   "source": [
    "domain_path = Path(os.path.abspath('')).parent / \"test\" / \"pddl\" / \"simple\" / \"domain.pddl\"\n",
    "problem_path = Path(os.path.abspath('')).parent / \"test\" / \"pddl\" / \"simple\" / \"problem.pddl\""
   ]
  },
  {
   "cell_type": "code",
   "execution_count": 3,
   "metadata": {},
   "outputs": [],
   "source": [
    "reader = PDDLReader()\n",
    "problem = reader.parse_problem(domain_path, problem_path)"
   ]
  },
  {
   "cell_type": "code",
   "execution_count": 4,
   "metadata": {},
   "outputs": [],
   "source": [
    "numeric_variables = get_numeric_variables(problem)\n",
    "\n",
    "action_effect_map = get_action_effect_map(problem)\n",
    "constants, init_constants = get_constants(problem, get_all_eff_num(problem))\n",
    "\n",
    "constants_abs = {np.abs(q) for q in constants.union(init_constants)}\n",
    "min_bits = int(np.ceil(np.log2(max(constants_abs) + 1)))\n",
    "\n",
    "chosen_bits = 4\n",
    "assert chosen_bits >= min_bits\n",
    "\n",
    "bitblasted_variables, bitblasted_constants = get_bitblasted_variables(numeric_variables, constants, chosen_bits)\n",
    "new_initial_values = get_bitblasted_initial_state(bitblasted_variables, bitblasted_constants, problem, chosen_bits)"
   ]
  },
  {
   "cell_type": "code",
   "execution_count": null,
   "metadata": {},
   "outputs": [],
   "source": []
  },
  {
   "cell_type": "code",
   "execution_count": 14,
   "metadata": {},
   "outputs": [
    {
     "data": {
      "text/plain": [
       "x += 1"
      ]
     },
     "execution_count": 14,
     "metadata": {},
     "output_type": "execute_result"
    }
   ],
   "source": [
    "action = problem.actions[0]\n",
    "assert isinstance(action, InstantaneousAction)\n",
    "new_action = InstantaneousAction(action.name)\n",
    "eff = effects_num(action=action).pop()\n",
    "eff\n",
    "\n",
    "# Effect conversion\n"
   ]
  },
  {
   "cell_type": "code",
   "execution_count": 27,
   "metadata": {},
   "outputs": [
    {
     "data": {
      "text/plain": [
       "x += 5"
      ]
     },
     "execution_count": 27,
     "metadata": {},
     "output_type": "execute_result"
    }
   ],
   "source": [
    "x = Fluent(\"x\", RealType())\n",
    "y = Fluent(\"y\", RealType())\n",
    "z = Fluent(\"z\", RealType())\n",
    "\n",
    "eff = Effect(condition=TRUE(), fluent=FluentExp(x), value=Int(5), kind=EffectKind.INCREASE)\n",
    "eff"
   ]
  },
  {
   "cell_type": "code",
   "execution_count": 6,
   "metadata": {},
   "outputs": [
    {
     "data": {
      "text/plain": [
       "problem name = compiled\n",
       "\n",
       "fluents = [\n",
       "  bool x_3\n",
       "  bool x_2\n",
       "  bool x_1\n",
       "  bool x_0\n",
       "  bool q0_3\n",
       "  bool q0_2\n",
       "  bool q0_1\n",
       "  bool q0_0\n",
       "]\n",
       "\n",
       "actions = [\n",
       "]\n",
       "\n",
       "initial fluents default = [\n",
       "]\n",
       "\n",
       "initial values = [\n",
       "  x_3 := true\n",
       "  x_2 := false\n",
       "  x_1 := true\n",
       "  x_0 := true\n",
       "  q0_3 := false\n",
       "  q0_2 := false\n",
       "  q0_1 := false\n",
       "  q0_0 := true\n",
       "]\n",
       "\n",
       "goals = [\n",
       "]\n"
      ]
     },
     "execution_count": 6,
     "metadata": {},
     "output_type": "execute_result"
    }
   ],
   "source": [
    "new_problem = Problem(name='compiled')\n",
    "\n",
    "for var, var_bits in bitblasted_variables.items():\n",
    "    new_problem.add_fluents(var_bits)\n",
    "    for var_bit in var_bits:\n",
    "        initital_value = new_initial_values[var_bit]\n",
    "        new_problem.set_initial_value(var_bit, initital_value)\n",
    "\n",
    "for const, const_bits in bitblasted_constants.items():\n",
    "    new_problem.add_fluents(const_bits)\n",
    "    for const_bit in const_bits:\n",
    "        initital_value = new_initial_values[const_bit]\n",
    "        new_problem.set_initial_value(const_bit, initital_value)\n",
    "\n",
    "\n",
    "new_problem"
   ]
  }
 ],
 "metadata": {
  "kernelspec": {
   "display_name": "planning-experiments",
   "language": "python",
   "name": "python3"
  },
  "language_info": {
   "codemirror_mode": {
    "name": "ipython",
    "version": 3
   },
   "file_extension": ".py",
   "mimetype": "text/x-python",
   "name": "python",
   "nbconvert_exporter": "python",
   "pygments_lexer": "ipython3",
   "version": "3.10.11"
  }
 },
 "nbformat": 4,
 "nbformat_minor": 2
}
