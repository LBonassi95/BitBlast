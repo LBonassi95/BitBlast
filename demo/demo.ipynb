{
 "cells": [
  {
   "cell_type": "code",
   "execution_count": 1,
   "metadata": {},
   "outputs": [],
   "source": [
    "from unified_planning.io.pddl_reader import PDDLReader\n",
    "from unified_planning.model import Problem\n",
    "from unified_planning.shortcuts import *\n",
    "from bitblast.helpers import *\n",
    "from pathlib import Path\n",
    "import os\n",
    "import numpy as np\n",
    "from sympy import *"
   ]
  },
  {
   "cell_type": "code",
   "execution_count": 2,
   "metadata": {},
   "outputs": [],
   "source": [
    "reader = PDDLReader()\n",
    "\n",
    "problem = reader.parse_problem(Path(\"/home/lubonassi/code/BitBlast/test/pddl/counters/domain.pddl\"), Path(\"/home/lubonassi/code/BitBlast/test/pddl/counters/instance_4.pddl\"))"
   ]
  },
  {
   "cell_type": "code",
   "execution_count": 3,
   "metadata": {},
   "outputs": [
    {
     "data": {
      "text/plain": [
       "problem name = instance_4\n",
       "\n",
       "types = [counter]\n",
       "\n",
       "fluents = [\n",
       "  real value[c=counter]\n",
       "  real max_int\n",
       "]\n",
       "\n",
       "actions = [\n",
       "  action increment(counter c) {\n",
       "    preconditions = [\n",
       "      ((value(c) + 1) <= max_int)\n",
       "    ]\n",
       "    effects = [\n",
       "      value(c) += 1\n",
       "    ]\n",
       "  }\n",
       "  action decrement(counter c) {\n",
       "    preconditions = [\n",
       "      (1 <= value(c))\n",
       "    ]\n",
       "    effects = [\n",
       "      value(c) -= 1\n",
       "    ]\n",
       "  }\n",
       "]\n",
       "\n",
       "objects = [\n",
       "  counter: [c0, c1, c2, c3]\n",
       "]\n",
       "\n",
       "initial fluents default = [\n",
       "]\n",
       "\n",
       "initial values = [\n",
       "  max_int := 8\n",
       "  value(c0) := 0\n",
       "  value(c1) := 0\n",
       "  value(c2) := 0\n",
       "  value(c3) := 0\n",
       "]\n",
       "\n",
       "goals = [\n",
       "  (((value(c0) + 1) <= value(c1)) and ((value(c1) + 1) <= value(c2)) and ((value(c2) + 1) <= value(c3)))\n",
       "]\n"
      ]
     },
     "execution_count": 3,
     "metadata": {},
     "output_type": "execute_result"
    }
   ],
   "source": [
    "problem"
   ]
  },
  {
   "cell_type": "code",
   "execution_count": 4,
   "metadata": {},
   "outputs": [],
   "source": [
    "simplifier = Simplifier(environment=get_environment(), problem=problem)\n",
    "checker = LinearChecker(environment=get_environment(), problem=problem)"
   ]
  },
  {
   "cell_type": "code",
   "execution_count": 12,
   "metadata": {},
   "outputs": [],
   "source": [
    "# Transform all effects into INCREASE\n",
    "def set_normalized_effect(act: InstantaneousAction, eff: Effect):\n",
    "    if eff.is_increase():\n",
    "        act.add_increase_effect(condition=eff.condition, value=eff.value, fluent=eff.fluent)\n",
    "    elif eff.is_decrease():\n",
    "        act.add_increase_effect(condition=eff.condition, value=simplifier.simplify(-eff.value), fluent=eff.fluent)\n",
    "    else:\n",
    "        # TODO: handle increase and decrease effects expressed as assignments\n",
    "        raise NotImplementedError(\"Effect type not supported\")\n",
    "    \n",
    "\n",
    "def normalize_action(act: InstantaneousAction) -> InstantaneousAction:\n",
    "    normalized_action = InstantaneousAction(act.name)\n",
    "    \n",
    "    for pre in act.preconditions:\n",
    "        if is_numeric_condition(pre):\n",
    "            expression = deep_simplify(Minus(lhs(pre), rhs(pre)))\n",
    "        if is_le(pre):\n",
    "            normalized_action.add_precondition(LE(expression, 0))\n",
    "        elif is_lt(pre):\n",
    "            normalized_action.add_precondition(LT(expression, 0))\n",
    "        elif is_equals(pre):\n",
    "            normalized_action.add_precondition(Equals(expression, 0))\n",
    "        else:\n",
    "            normalized_action.add_precondition(pre)\n",
    "\n",
    "    \n",
    "    for eff in act.effects:\n",
    "        set_normalized_effect(normalized_action, eff)\n",
    "    return normalized_action\n",
    "        "
   ]
  },
  {
   "cell_type": "code",
   "execution_count": 13,
   "metadata": {},
   "outputs": [
    {
     "data": {
      "text/plain": [
       "action increment {\n",
       "    preconditions = [\n",
       "      ((1 + value(c) + (-1 * max_int)) <= 0)\n",
       "    ]\n",
       "    effects = [\n",
       "      value(c) += 1\n",
       "    ]\n",
       "  }"
      ]
     },
     "execution_count": 13,
     "metadata": {},
     "output_type": "execute_result"
    }
   ],
   "source": [
    "normalized_actions = [normalize_action(act) for act in problem.actions]\n",
    "normalized_actions[0]"
   ]
  },
  {
   "cell_type": "code",
   "execution_count": 7,
   "metadata": {},
   "outputs": [],
   "source": [
    "def lhs(formula: FNode):\n",
    "    return formula.args[0]\n",
    "\n",
    "def rhs(formula: FNode):\n",
    "    return formula.args[1]"
   ]
  },
  {
   "cell_type": "code",
   "execution_count": 8,
   "metadata": {},
   "outputs": [],
   "source": [
    "def get_substitutions(fluents):\n",
    "    '''\n",
    "    Before converting an expression to a sympy expression, we need to substitute all the\n",
    "    fluents with new variables var0, var1 ecc...\n",
    "    This is because sympy interprets fluent(a, b) as a function, not as a variable.\n",
    "    '''\n",
    "    new_vars_dict = {}\n",
    "    index = 0\n",
    "    for fluent in fluents:\n",
    "        new_fl = Fluent(f'var{index}', RealType())\n",
    "        new_vars_dict[fluent] = new_fl()\n",
    "        index += 1\n",
    "    return new_vars_dict\n",
    "\n",
    "extractor = FreeVarsExtractor()\n",
    "linear_checker = LinearChecker()\n",
    "nnf_transformer = Nnf(get_environment())\n",
    "substituter = Substituter(get_environment())\n",
    "\n",
    "\n"
   ]
  }
 ],
 "metadata": {
  "kernelspec": {
   "display_name": "planning-experiments",
   "language": "python",
   "name": "python3"
  },
  "language_info": {
   "codemirror_mode": {
    "name": "ipython",
    "version": 3
   },
   "file_extension": ".py",
   "mimetype": "text/x-python",
   "name": "python",
   "nbconvert_exporter": "python",
   "pygments_lexer": "ipython3",
   "version": "3.10.11"
  }
 },
 "nbformat": 4,
 "nbformat_minor": 2
}
