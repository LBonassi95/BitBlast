{
 "cells": [
  {
   "cell_type": "code",
   "execution_count": 2,
   "metadata": {},
   "outputs": [],
   "source": [
    "from unified_planning.io.pddl_reader import PDDLReader\n",
    "from unified_planning.model import Problem\n",
    "from unified_planning.shortcuts import *\n",
    "from bitblast.helpers.utils import *\n",
    "from pathlib import Path\n",
    "import os\n",
    "import numpy as np\n",
    "from unified_planning.io.pddl_writer import PDDLWriter\n",
    "from unified_planning.model.walkers import LinearChecker, FreeVarsExtractor, Substituter, Simplifier, Nnf\n",
    "from sympy.parsing.sympy_parser import parse_expr, standard_transformations"
   ]
  },
  {
   "cell_type": "code",
   "execution_count": 3,
   "metadata": {},
   "outputs": [],
   "source": [
    "reader = PDDLReader()\n",
    "\n",
    "problem = reader.parse_problem(Path(\"/home/lubonassi/code/BitBlast/test/pddl/counters/domain.pddl\"), Path(\"/home/lubonassi/code/BitBlast/test/pddl/counters/instance_4.pddl\"))"
   ]
  },
  {
   "cell_type": "code",
   "execution_count": 4,
   "metadata": {},
   "outputs": [
    {
     "data": {
      "text/plain": [
       "problem name = instance_4\n",
       "\n",
       "types = [counter]\n",
       "\n",
       "fluents = [\n",
       "  real value[c=counter]\n",
       "  real max_int\n",
       "]\n",
       "\n",
       "actions = [\n",
       "  action increment(counter c) {\n",
       "    preconditions = [\n",
       "      ((value(c) + 1) <= max_int)\n",
       "    ]\n",
       "    effects = [\n",
       "      value(c) += 1\n",
       "    ]\n",
       "  }\n",
       "  action decrement(counter c) {\n",
       "    preconditions = [\n",
       "      (1 <= value(c))\n",
       "    ]\n",
       "    effects = [\n",
       "      value(c) -= 1\n",
       "    ]\n",
       "  }\n",
       "]\n",
       "\n",
       "objects = [\n",
       "  counter: [c0, c1, c2, c3]\n",
       "]\n",
       "\n",
       "initial fluents default = [\n",
       "]\n",
       "\n",
       "initial values = [\n",
       "  max_int := 8\n",
       "  value(c0) := 0\n",
       "  value(c1) := 0\n",
       "  value(c2) := 0\n",
       "  value(c3) := 0\n",
       "]\n",
       "\n",
       "goals = [\n",
       "  (((value(c0) + 1) <= value(c1)) and ((value(c1) + 1) <= value(c2)) and ((value(c2) + 1) <= value(c3)))\n",
       "]\n"
      ]
     },
     "execution_count": 4,
     "metadata": {},
     "output_type": "execute_result"
    }
   ],
   "source": [
    "problem"
   ]
  },
  {
   "cell_type": "code",
   "execution_count": 5,
   "metadata": {},
   "outputs": [],
   "source": [
    "simplifier = Simplifier(environment=get_environment(), problem=problem)\n",
    "checker = LinearChecker(environment=get_environment(), problem=problem)"
   ]
  },
  {
   "cell_type": "code",
   "execution_count": 6,
   "metadata": {},
   "outputs": [],
   "source": [
    "# Transform all effects into INCREASE\n",
    "def set_normalized_effect(act: InstantaneousAction, eff: Effect):\n",
    "    if eff.is_increase():\n",
    "        act.add_increase_effect(condition=eff.condition, value=eff.value, fluent=eff.fluent)\n",
    "    elif eff.is_decrease():\n",
    "        act.add_increase_effect(condition=eff.condition, value=simplifier.simplify(-eff.value), fluent=eff.fluent)\n",
    "    else:\n",
    "        # TODO: handle increase and decrease effects expressed as assignments\n",
    "        raise NotImplementedError(\"Effect type not supported\")\n",
    "    \n",
    "\n",
    "def normalize_effects(act: InstantaneousAction) -> InstantaneousAction:\n",
    "    normalized_action = InstantaneousAction(act.name)\n",
    "    for pre in act.preconditions:\n",
    "        normalized_action.add_precondition(pre)\n",
    "    \n",
    "    for eff in act.effects:\n",
    "        set_normalized_effect(normalized_action, eff)\n",
    "    return normalized_action\n",
    "        "
   ]
  },
  {
   "cell_type": "code",
   "execution_count": 9,
   "metadata": {},
   "outputs": [
    {
     "data": {
      "text/plain": [
       "{'increment': {value(c) += 1}, 'decrement': {value(c) += -1}}"
      ]
     },
     "execution_count": 9,
     "metadata": {},
     "output_type": "execute_result"
    }
   ],
   "source": [
    "normalized_actions = [normalize_effects(act) for act in problem.actions]\n",
    "action_map = get_action_effect_map(normalized_actions)\n",
    "action_map"
   ]
  },
  {
   "cell_type": "code",
   "execution_count": null,
   "metadata": {},
   "outputs": [],
   "source": [
    "def lhs(formula: FNode):\n",
    "    return formula.args[0]\n",
    "\n",
    "def rhs(formula: FNode):\n",
    "    return formula.args[1]"
   ]
  },
  {
   "cell_type": "code",
   "execution_count": null,
   "metadata": {},
   "outputs": [],
   "source": [
    "numeric_conditions = "
   ]
  },
  {
   "cell_type": "code",
   "execution_count": null,
   "metadata": {},
   "outputs": [
    {
     "data": {
      "text/plain": [
       "((((value(c) + 1) * 5) - 8) <= 0)"
      ]
     },
     "execution_count": 45,
     "metadata": {},
     "output_type": "execute_result"
    }
   ],
   "source": [
    "simplifier.simplify(tmp)"
   ]
  }
 ],
 "metadata": {
  "kernelspec": {
   "display_name": "planning-experiments",
   "language": "python",
   "name": "python3"
  },
  "language_info": {
   "codemirror_mode": {
    "name": "ipython",
    "version": 3
   },
   "file_extension": ".py",
   "mimetype": "text/x-python",
   "name": "python",
   "nbconvert_exporter": "python",
   "pygments_lexer": "ipython3",
   "version": "3.10.11"
  }
 },
 "nbformat": 4,
 "nbformat_minor": 2
}
