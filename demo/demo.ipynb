{
 "cells": [
  {
   "cell_type": "code",
   "execution_count": 10,
   "metadata": {},
   "outputs": [],
   "source": [
    "from unified_planning.io.pddl_reader import PDDLReader\n",
    "from unified_planning.model import Problem\n",
    "from unified_planning.shortcuts import *\n",
    "from bitblast.utils import *\n",
    "from bitblast.full_adder import *\n",
    "from pathlib import Path\n",
    "import os\n",
    "import numpy as np\n",
    "from unified_planning.io.pddl_writer import PDDLWriter\n"
   ]
  },
  {
   "cell_type": "code",
   "execution_count": 11,
   "metadata": {},
   "outputs": [],
   "source": [
    "domain_path = Path(os.path.abspath('')).parent / \"test\" / \"pddl\" / \"simple\" / \"domain.pddl\"\n",
    "problem_path = Path(os.path.abspath('')).parent / \"test\" / \"pddl\" / \"simple\" / \"problem.pddl\""
   ]
  },
  {
   "cell_type": "code",
   "execution_count": 12,
   "metadata": {},
   "outputs": [],
   "source": [
    "reader = PDDLReader()\n",
    "problem = reader.parse_problem(domain_path, problem_path)"
   ]
  },
  {
   "cell_type": "code",
   "execution_count": 13,
   "metadata": {},
   "outputs": [],
   "source": [
    "numeric_variables = get_numeric_variables(problem)\n",
    "action_effect_map = get_action_effect_map(problem)\n",
    "constants, init_constants = get_constants(problem, get_all_eff_num(problem))\n",
    "\n",
    "fluent_to_var = {fluent: FluentExp(fluent) for fluent in numeric_variables}\n",
    "var_to_fluent = {fluent_to_var[fluent]: fluent for fluent in numeric_variables}\n",
    "\n",
    "constants_abs = {np.abs(q) for q in constants.union(init_constants)}\n",
    "min_bits = int(np.ceil(np.log2(max(constants_abs) + 1)))\n",
    "\n",
    "chosen_bits = 4\n",
    "assert chosen_bits >= min_bits\n",
    "\n",
    "bitblasted_variables, bitblasted_constants = get_bitblasted_variables(numeric_variables, constants, chosen_bits)\n",
    "new_initial_values = get_bitblasted_initial_state(bitblasted_variables, bitblasted_constants, problem, chosen_bits)"
   ]
  },
  {
   "cell_type": "code",
   "execution_count": 14,
   "metadata": {},
   "outputs": [
    {
     "data": {
      "text/plain": [
       "{real x: [bool x_0, bool x_1, bool x_2, bool x_3]}"
      ]
     },
     "execution_count": 14,
     "metadata": {},
     "output_type": "execute_result"
    }
   ],
   "source": [
    "bitblasted_variables"
   ]
  },
  {
   "cell_type": "code",
   "execution_count": 15,
   "metadata": {},
   "outputs": [
    {
     "data": {
      "text/plain": [
       "[if ((x_0 and (not q0_0)) or (q0_0 and (not x_0))) then x_0 := true,\n",
       " if (not ((x_0 and (not q0_0)) or (q0_0 and (not x_0)))) then x_0 := false,\n",
       " if ((((x_1 and (not q0_1)) or (q0_1 and (not x_1))) and (not (x_0 and q0_0))) or (x_0 and q0_0 and (not ((x_1 and (not q0_1)) or (q0_1 and (not x_1)))))) then x_1 := true,\n",
       " if (not ((((x_1 and (not q0_1)) or (q0_1 and (not x_1))) and (not (x_0 and q0_0))) or (x_0 and q0_0 and (not ((x_1 and (not q0_1)) or (q0_1 and (not x_1))))))) then x_1 := false,\n",
       " if ((((x_2 and (not q0_2)) or (q0_2 and (not x_2))) and (not ((x_1 and q0_1) or (x_0 and q0_0 and ((x_1 and (not q0_1)) or (q0_1 and (not x_1))))))) or (((x_1 and q0_1) or (x_0 and q0_0 and ((x_1 and (not q0_1)) or (q0_1 and (not x_1))))) and (not ((x_2 and (not q0_2)) or (q0_2 and (not x_2)))))) then x_2 := true,\n",
       " if (not ((((x_2 and (not q0_2)) or (q0_2 and (not x_2))) and (not ((x_1 and q0_1) or (x_0 and q0_0 and ((x_1 and (not q0_1)) or (q0_1 and (not x_1))))))) or (((x_1 and q0_1) or (x_0 and q0_0 and ((x_1 and (not q0_1)) or (q0_1 and (not x_1))))) and (not ((x_2 and (not q0_2)) or (q0_2 and (not x_2))))))) then x_2 := false,\n",
       " if ((((x_3 and (not q0_3)) or (q0_3 and (not x_3))) and (not ((x_2 and q0_2) or (((x_1 and q0_1) or (x_0 and q0_0 and ((x_1 and (not q0_1)) or (q0_1 and (not x_1))))) and ((x_2 and (not q0_2)) or (q0_2 and (not x_2))))))) or (((x_2 and q0_2) or (((x_1 and q0_1) or (x_0 and q0_0 and ((x_1 and (not q0_1)) or (q0_1 and (not x_1))))) and ((x_2 and (not q0_2)) or (q0_2 and (not x_2))))) and (not ((x_3 and (not q0_3)) or (q0_3 and (not x_3)))))) then x_3 := true,\n",
       " if (not ((((x_3 and (not q0_3)) or (q0_3 and (not x_3))) and (not ((x_2 and q0_2) or (((x_1 and q0_1) or (x_0 and q0_0 and ((x_1 and (not q0_1)) or (q0_1 and (not x_1))))) and ((x_2 and (not q0_2)) or (q0_2 and (not x_2))))))) or (((x_2 and q0_2) or (((x_1 and q0_1) or (x_0 and q0_0 and ((x_1 and (not q0_1)) or (q0_1 and (not x_1))))) and ((x_2 and (not q0_2)) or (q0_2 and (not x_2))))) and (not ((x_3 and (not q0_3)) or (q0_3 and (not x_3))))))) then x_3 := false]"
      ]
     },
     "execution_count": 15,
     "metadata": {},
     "output_type": "execute_result"
    }
   ],
   "source": [
    "action = problem.actions[0]\n",
    "assert isinstance(action, InstantaneousAction)\n",
    "new_action = InstantaneousAction(action.name)\n",
    "eff = effects_num(action=action).pop()\n",
    "\n",
    "var = var_to_fluent[eff.fluent]\n",
    "value = constant_value(eff.value)\n",
    "\n",
    "x_bits = bitblasted_variables[var]\n",
    "q_bits = bitblasted_constants[value]\n",
    "fa = FullAdder(x_bits, q_bits)\n",
    "\n",
    "# Effect conversion\n",
    "fa.circuit\n",
    "sums = [fa.circuit[f\"z_{i}\"] for i in range(chosen_bits)]\n",
    "condeffs = []\n",
    "\n",
    "for i in range(chosen_bits):\n",
    "    new_action.add_effect(condition=sums[i], fluent=FluentExp(x_bits[i]), value=TRUE())\n",
    "    new_action.add_effect(condition=Not(sums[i]), fluent=FluentExp(x_bits[i]), value=FALSE())\n",
    "\n",
    "new_action.effects"
   ]
  },
  {
   "cell_type": "code",
   "execution_count": 16,
   "metadata": {},
   "outputs": [
    {
     "data": {
      "text/plain": [
       "problem name = compiled\n",
       "\n",
       "fluents = [\n",
       "  bool x_0\n",
       "  bool x_1\n",
       "  bool x_2\n",
       "  bool x_3\n",
       "  bool q0_0\n",
       "  bool q0_1\n",
       "  bool q0_2\n",
       "  bool q0_3\n",
       "]\n",
       "\n",
       "actions = [\n",
       "  action increase_x {\n",
       "    preconditions = [\n",
       "    ]\n",
       "    effects = [\n",
       "      if ((x_0 and (not q0_0)) or (q0_0 and (not x_0))) then x_0 := true\n",
       "      if (not ((x_0 and (not q0_0)) or (q0_0 and (not x_0)))) then x_0 := false\n",
       "      if ((((x_1 and (not q0_1)) or (q0_1 and (not x_1))) and (not (x_0 and q0_0))) or (x_0 and q0_0 and (not ((x_1 and (not q0_1)) or (q0_1 and (not x_1)))))) then x_1 := true\n",
       "      if (not ((((x_1 and (not q0_1)) or (q0_1 and (not x_1))) and (not (x_0 and q0_0))) or (x_0 and q0_0 and (not ((x_1 and (not q0_1)) or (q0_1 and (not x_1))))))) then x_1 := false\n",
       "      if ((((x_2 and (not q0_2)) or (q0_2 and (not x_2))) and (not ((x_1 and q0_1) or (x_0 and q0_0 and ((x_1 and (not q0_1)) or (q0_1 and (not x_1))))))) or (((x_1 and q0_1) or (x_0 and q0_0 and ((x_1 and (not q0_1)) or (q0_1 and (not x_1))))) and (not ((x_2 and (not q0_2)) or (q0_2 and (not x_2)))))) then x_2 := true\n",
       "      if (not ((((x_2 and (not q0_2)) or (q0_2 and (not x_2))) and (not ((x_1 and q0_1) or (x_0 and q0_0 and ((x_1 and (not q0_1)) or (q0_1 and (not x_1))))))) or (((x_1 and q0_1) or (x_0 and q0_0 and ((x_1 and (not q0_1)) or (q0_1 and (not x_1))))) and (not ((x_2 and (not q0_2)) or (q0_2 and (not x_2))))))) then x_2 := false\n",
       "      if ((((x_3 and (not q0_3)) or (q0_3 and (not x_3))) and (not ((x_2 and q0_2) or (((x_1 and q0_1) or (x_0 and q0_0 and ((x_1 and (not q0_1)) or (q0_1 and (not x_1))))) and ((x_2 and (not q0_2)) or (q0_2 and (not x_2))))))) or (((x_2 and q0_2) or (((x_1 and q0_1) or (x_0 and q0_0 and ((x_1 and (not q0_1)) or (q0_1 and (not x_1))))) and ((x_2 and (not q0_2)) or (q0_2 and (not x_2))))) and (not ((x_3 and (not q0_3)) or (q0_3 and (not x_3)))))) then x_3 := true\n",
       "      if (not ((((x_3 and (not q0_3)) or (q0_3 and (not x_3))) and (not ((x_2 and q0_2) or (((x_1 and q0_1) or (x_0 and q0_0 and ((x_1 and (not q0_1)) or (q0_1 and (not x_1))))) and ((x_2 and (not q0_2)) or (q0_2 and (not x_2))))))) or (((x_2 and q0_2) or (((x_1 and q0_1) or (x_0 and q0_0 and ((x_1 and (not q0_1)) or (q0_1 and (not x_1))))) and ((x_2 and (not q0_2)) or (q0_2 and (not x_2))))) and (not ((x_3 and (not q0_3)) or (q0_3 and (not x_3))))))) then x_3 := false\n",
       "    ]\n",
       "  }\n",
       "]\n",
       "\n",
       "initial fluents default = [\n",
       "]\n",
       "\n",
       "initial values = [\n",
       "  x_0 := true\n",
       "  x_1 := true\n",
       "  x_2 := false\n",
       "  x_3 := true\n",
       "  q0_0 := true\n",
       "  q0_1 := false\n",
       "  q0_2 := false\n",
       "  q0_3 := false\n",
       "]\n",
       "\n",
       "goals = [\n",
       "]\n"
      ]
     },
     "execution_count": 16,
     "metadata": {},
     "output_type": "execute_result"
    }
   ],
   "source": [
    "new_problem = Problem(name='compiled')\n",
    "\n",
    "for var, var_bits in bitblasted_variables.items():\n",
    "    new_problem.add_fluents(var_bits)\n",
    "    for var_bit in var_bits:\n",
    "        initital_value = new_initial_values[var_bit]\n",
    "        new_problem.set_initial_value(var_bit, initital_value)\n",
    "\n",
    "for const, const_bits in bitblasted_constants.items():\n",
    "    new_problem.add_fluents(const_bits)\n",
    "    for const_bit in const_bits:\n",
    "        initital_value = new_initial_values[const_bit]\n",
    "        new_problem.set_initial_value(const_bit, initital_value)\n",
    "\n",
    "\n",
    "new_problem.add_action(new_action)\n",
    "new_problem"
   ]
  },
  {
   "cell_type": "code",
   "execution_count": 17,
   "metadata": {},
   "outputs": [],
   "source": [
    "writer = PDDLWriter(new_problem)\n",
    "new_domain_path = Path(os.path.abspath('')).parent / \"test\" / \"pddl\" / \"simple\" / \"domain_compiled.pddl\"\n",
    "new_problem_path = Path(os.path.abspath('')).parent / \"test\" / \"pddl\" / \"simple\" / \"problem_compiled.pddl\"\n",
    "writer.write_domain(new_domain_path)\n",
    "writer.write_problem(new_problem_path)"
   ]
  }
 ],
 "metadata": {
  "kernelspec": {
   "display_name": "planning-experiments",
   "language": "python",
   "name": "python3"
  },
  "language_info": {
   "codemirror_mode": {
    "name": "ipython",
    "version": 3
   },
   "file_extension": ".py",
   "mimetype": "text/x-python",
   "name": "python",
   "nbconvert_exporter": "python",
   "pygments_lexer": "ipython3",
   "version": "3.10.11"
  }
 },
 "nbformat": 4,
 "nbformat_minor": 2
}
