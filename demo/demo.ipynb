{
 "cells": [
  {
   "cell_type": "code",
   "execution_count": 1,
   "metadata": {},
   "outputs": [],
   "source": [
    "from unified_planning.io.pddl_reader import PDDLReader\n",
    "from unified_planning.model import Problem\n",
    "from unified_planning.shortcuts import *\n",
    "from bitblast.helpers.utils import *\n",
    "from bitblast.helpers.full_adder import *\n",
    "from pathlib import Path\n",
    "import os\n",
    "import numpy as np\n",
    "from unified_planning.io.pddl_writer import PDDLWriter\n"
   ]
  },
  {
   "cell_type": "code",
   "execution_count": 2,
   "metadata": {},
   "outputs": [],
   "source": [
    "domain_path = Path(os.path.abspath('')).parent / \"test\" / \"pddl\" / \"simple\" / \"domain.pddl\"\n",
    "problem_path = Path(os.path.abspath('')).parent / \"test\" / \"pddl\" / \"simple\" / \"problem.pddl\""
   ]
  },
  {
   "cell_type": "code",
   "execution_count": 3,
   "metadata": {},
   "outputs": [],
   "source": [
    "reader = PDDLReader()\n",
    "problem = reader.parse_problem(domain_path, problem_path)"
   ]
  },
  {
   "cell_type": "code",
   "execution_count": 8,
   "metadata": {},
   "outputs": [
    {
     "data": {
      "text/plain": [
       "True"
      ]
     },
     "execution_count": 8,
     "metadata": {},
     "output_type": "execute_result"
    }
   ],
   "source": [
    "test = list(problem.initial_values.values())[0]\n",
    "isinstance(test, FNode)"
   ]
  },
  {
   "cell_type": "code",
   "execution_count": 5,
   "metadata": {},
   "outputs": [
    {
     "data": {
      "text/plain": [
       "{b: true, x: -5}"
      ]
     },
     "execution_count": 5,
     "metadata": {},
     "output_type": "execute_result"
    }
   ],
   "source": [
    "problem.initial_values"
   ]
  },
  {
   "cell_type": "code",
   "execution_count": 5,
   "metadata": {},
   "outputs": [],
   "source": [
    "numeric_variables = get_numeric_variables(problem)\n",
    "action_effect_map = get_action_effect_map(problem)\n",
    "constants, init_constants = get_constants(problem, get_all_eff_num(problem))\n",
    "\n",
    "\n",
    "constants_abs = {np.abs(q) for q in constants.union(init_constants)}\n",
    "min_bits = int(np.ceil(np.log2(max(constants_abs) + 1)))\n",
    "\n",
    "chosen_bits = 4\n",
    "assert chosen_bits >= min_bits\n",
    "\n",
    "bin_fluents, bin_fluents_exp, bin_constants, bin_constants_exp = get_bin_variables(numeric_variables, constants, chosen_bits)\n",
    "\n",
    "new_initial_values = get_bin_initial_state(bin_fluents_exp, bin_constants_exp, problem.initial_values, chosen_bits)"
   ]
  },
  {
   "cell_type": "code",
   "execution_count": 6,
   "metadata": {},
   "outputs": [
    {
     "data": {
      "text/plain": [
       "{real x: [bool x_0, bool x_1, bool x_2, bool x_3]}"
      ]
     },
     "execution_count": 6,
     "metadata": {},
     "output_type": "execute_result"
    }
   ],
   "source": [
    "bin_fluents"
   ]
  },
  {
   "cell_type": "code",
   "execution_count": 7,
   "metadata": {},
   "outputs": [],
   "source": [
    "action = problem.actions[0]\n",
    "\n",
    "new_actions = []\n",
    "for a in problem.actions:\n",
    "    assert isinstance(action, InstantaneousAction)\n",
    "    new_action = InstantaneousAction(action.name)\n",
    "    eff = effects_num(action=action).pop()\n",
    "\n",
    "    value = constant_value(eff.value)\n",
    "\n",
    "    x_bits = bin_fluents_exp[eff.fluent]\n",
    "    q_bits = bin_constants_exp[value]\n",
    "\n",
    "    # Effect conversion\n",
    "    circuit = full_adder_circuit(x_bits, q_bits)\n",
    "    sums = [circuit[\"z\"][i] for i in range(chosen_bits)]\n",
    "    condeffs = []\n",
    "\n",
    "    for i in range(chosen_bits):\n",
    "        new_action.add_effect(condition=sums[i], fluent=x_bits[i], value=TRUE())\n",
    "        new_action.add_effect(condition=Not(sums[i]), fluent=x_bits[i], value=FALSE())\n",
    "\n",
    "    new_actions.append(new_action)"
   ]
  },
  {
   "cell_type": "code",
   "execution_count": 9,
   "metadata": {},
   "outputs": [
    {
     "data": {
      "text/plain": [
       "problem name = compiled\n",
       "\n",
       "fluents = [\n",
       "  bool x_0\n",
       "  bool x_1\n",
       "  bool x_2\n",
       "  bool x_3\n",
       "  bool q0_0\n",
       "  bool q0_1\n",
       "  bool q0_2\n",
       "  bool q0_3\n",
       "]\n",
       "\n",
       "actions = [\n",
       "  action increase_x {\n",
       "    preconditions = [\n",
       "    ]\n",
       "    effects = [\n",
       "      if ((x_0 and (not q0_0)) or (q0_0 and (not x_0))) then x_0 := true\n",
       "      if (not ((x_0 and (not q0_0)) or (q0_0 and (not x_0)))) then x_0 := false\n",
       "      if ((((x_1 and (not q0_1)) or (q0_1 and (not x_1))) and (not (x_0 and q0_0))) or (x_0 and q0_0 and (not ((x_1 and (not q0_1)) or (q0_1 and (not x_1)))))) then x_1 := true\n",
       "      if (not ((((x_1 and (not q0_1)) or (q0_1 and (not x_1))) and (not (x_0 and q0_0))) or (x_0 and q0_0 and (not ((x_1 and (not q0_1)) or (q0_1 and (not x_1))))))) then x_1 := false\n",
       "      if ((((x_2 and (not q0_2)) or (q0_2 and (not x_2))) and (not ((x_1 and q0_1) or (x_0 and q0_0 and ((x_1 and (not q0_1)) or (q0_1 and (not x_1))))))) or (((x_1 and q0_1) or (x_0 and q0_0 and ((x_1 and (not q0_1)) or (q0_1 and (not x_1))))) and (not ((x_2 and (not q0_2)) or (q0_2 and (not x_2)))))) then x_2 := true\n",
       "      if (not ((((x_2 and (not q0_2)) or (q0_2 and (not x_2))) and (not ((x_1 and q0_1) or (x_0 and q0_0 and ((x_1 and (not q0_1)) or (q0_1 and (not x_1))))))) or (((x_1 and q0_1) or (x_0 and q0_0 and ((x_1 and (not q0_1)) or (q0_1 and (not x_1))))) and (not ((x_2 and (not q0_2)) or (q0_2 and (not x_2))))))) then x_2 := false\n",
       "      if ((((x_3 and (not q0_3)) or (q0_3 and (not x_3))) and (not ((x_2 and q0_2) or (((x_1 and q0_1) or (x_0 and q0_0 and ((x_1 and (not q0_1)) or (q0_1 and (not x_1))))) and ((x_2 and (not q0_2)) or (q0_2 and (not x_2))))))) or (((x_2 and q0_2) or (((x_1 and q0_1) or (x_0 and q0_0 and ((x_1 and (not q0_1)) or (q0_1 and (not x_1))))) and ((x_2 and (not q0_2)) or (q0_2 and (not x_2))))) and (not ((x_3 and (not q0_3)) or (q0_3 and (not x_3)))))) then x_3 := true\n",
       "      if (not ((((x_3 and (not q0_3)) or (q0_3 and (not x_3))) and (not ((x_2 and q0_2) or (((x_1 and q0_1) or (x_0 and q0_0 and ((x_1 and (not q0_1)) or (q0_1 and (not x_1))))) and ((x_2 and (not q0_2)) or (q0_2 and (not x_2))))))) or (((x_2 and q0_2) or (((x_1 and q0_1) or (x_0 and q0_0 and ((x_1 and (not q0_1)) or (q0_1 and (not x_1))))) and ((x_2 and (not q0_2)) or (q0_2 and (not x_2))))) and (not ((x_3 and (not q0_3)) or (q0_3 and (not x_3))))))) then x_3 := false\n",
       "    ]\n",
       "  }\n",
       "]\n",
       "\n",
       "initial fluents default = [\n",
       "]\n",
       "\n",
       "initial values = [\n",
       "  x_0 := true\n",
       "  x_1 := true\n",
       "  x_2 := false\n",
       "  x_3 := true\n",
       "  q0_0 := true\n",
       "  q0_1 := false\n",
       "  q0_2 := false\n",
       "  q0_3 := false\n",
       "]\n",
       "\n",
       "goals = [\n",
       "]\n"
      ]
     },
     "execution_count": 9,
     "metadata": {},
     "output_type": "execute_result"
    }
   ],
   "source": [
    "new_problem = Problem(name='compiled')\n",
    "\n",
    "for var, var_bits in bin_fluents.items():\n",
    "    new_problem.add_fluents(var_bits)\n",
    "    for var_bit in var_bits:\n",
    "        initital_value = new_initial_values[FluentExp(var_bit)]\n",
    "        new_problem.set_initial_value(var_bit, initital_value)\n",
    "\n",
    "for const, const_bits in bin_constants.items():\n",
    "    new_problem.add_fluents(const_bits)\n",
    "    for const_bit in const_bits:\n",
    "        initital_value = new_initial_values[FluentExp(const_bit)]\n",
    "        new_problem.set_initial_value(const_bit, initital_value)\n",
    "\n",
    "\n",
    "new_problem.add_actions(new_actions)\n",
    "new_problem"
   ]
  },
  {
   "cell_type": "code",
   "execution_count": 10,
   "metadata": {},
   "outputs": [],
   "source": [
    "writer = PDDLWriter(new_problem)\n",
    "new_domain_path = Path(os.path.abspath('')).parent / \"test\" / \"pddl\" / \"simple\" / \"domain_compiled.pddl\"\n",
    "new_problem_path = Path(os.path.abspath('')).parent / \"test\" / \"pddl\" / \"simple\" / \"problem_compiled.pddl\"\n",
    "writer.write_domain(new_domain_path)\n",
    "writer.write_problem(new_problem_path)"
   ]
  },
  {
   "cell_type": "code",
   "execution_count": null,
   "metadata": {},
   "outputs": [],
   "source": []
  },
  {
   "cell_type": "code",
   "execution_count": null,
   "metadata": {},
   "outputs": [],
   "source": []
  }
 ],
 "metadata": {
  "kernelspec": {
   "display_name": "planning-experiments",
   "language": "python",
   "name": "python3"
  },
  "language_info": {
   "codemirror_mode": {
    "name": "ipython",
    "version": 3
   },
   "file_extension": ".py",
   "mimetype": "text/x-python",
   "name": "python",
   "nbconvert_exporter": "python",
   "pygments_lexer": "ipython3",
   "version": "3.10.11"
  }
 },
 "nbformat": 4,
 "nbformat_minor": 2
}
